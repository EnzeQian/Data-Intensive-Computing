{
 "cells": [
  {
   "cell_type": "code",
   "execution_count": 5,
   "metadata": {
    "collapsed": true
   },
   "outputs": [],
   "source": [
    "library(ggplot2)"
   ]
  },
  {
   "cell_type": "code",
   "execution_count": 6,
   "metadata": {
    "collapsed": true
   },
   "outputs": [],
   "source": [
    "df <- read.csv(\"P1.csv\")"
   ]
  },
  {
   "cell_type": "code",
   "execution_count": 7,
   "metadata": {},
   "outputs": [
    {
     "data": {
      "text/html": [
       "<table>\n",
       "<thead><tr><th scope=col>ngram</th><th scope=col>files</th><th scope=col>runtime</th></tr></thead>\n",
       "<tbody>\n",
       "\t<tr><td>2      </td><td> 1     </td><td>  1.019</td></tr>\n",
       "\t<tr><td>2      </td><td> 2     </td><td>  4.529</td></tr>\n",
       "\t<tr><td>2      </td><td> 3     </td><td>  8.018</td></tr>\n",
       "\t<tr><td>2      </td><td> 4     </td><td> 15.531</td></tr>\n",
       "\t<tr><td>2      </td><td> 8     </td><td> 72.534</td></tr>\n",
       "\t<tr><td>2      </td><td>20     </td><td>520.520</td></tr>\n",
       "</tbody>\n",
       "</table>\n"
      ],
      "text/latex": [
       "\\begin{tabular}{r|lll}\n",
       " ngram & files & runtime\\\\\n",
       "\\hline\n",
       "\t 2       &  1      &   1.019\\\\\n",
       "\t 2       &  2      &   4.529\\\\\n",
       "\t 2       &  3      &   8.018\\\\\n",
       "\t 2       &  4      &  15.531\\\\\n",
       "\t 2       &  8      &  72.534\\\\\n",
       "\t 2       & 20      & 520.520\\\\\n",
       "\\end{tabular}\n"
      ],
      "text/markdown": [
       "\n",
       "ngram | files | runtime | \n",
       "|---|---|---|---|---|---|\n",
       "| 2       |  1      |   1.019 | \n",
       "| 2       |  2      |   4.529 | \n",
       "| 2       |  3      |   8.018 | \n",
       "| 2       |  4      |  15.531 | \n",
       "| 2       |  8      |  72.534 | \n",
       "| 2       | 20      | 520.520 | \n",
       "\n",
       "\n"
      ],
      "text/plain": [
       "  ngram files runtime\n",
       "1 2      1      1.019\n",
       "2 2      2      4.529\n",
       "3 2      3      8.018\n",
       "4 2      4     15.531\n",
       "5 2      8     72.534\n",
       "6 2     20    520.520"
      ]
     },
     "metadata": {},
     "output_type": "display_data"
    }
   ],
   "source": [
    "head(df)"
   ]
  },
  {
   "cell_type": "code",
   "execution_count": 8,
   "metadata": {},
   "outputs": [
    {
     "data": {},
     "metadata": {},
     "output_type": "display_data"
    },
    {
     "data": {
      "image/png": "[encoded data removed]",
      "text/plain": [
       "plot without title"
      ]
     },
     "metadata": {},
     "output_type": "display_data"
    }
   ],
   "source": [
    "ggplot(data=df, aes(x=files, y=runtime, group=ngram, colour=ngram)) + geom_line() + geom_point()"
   ]
  },
  {
   "cell_type": "code",
   "execution_count": null,
   "metadata": {
    "collapsed": true
   },
   "outputs": [],
   "source": []
  }
 ],
 "metadata": {
  "kernelspec": {
   "display_name": "R",
   "language": "R",
   "name": "ir"
  },
  "language_info": {
   "codemirror_mode": "r",
   "file_extension": ".r",
   "mimetype": "text/x-r-source",
   "name": "R",
   "pygments_lexer": "r",
   "version": "3.3.2"
  }
 },
 "nbformat": 4,
 "nbformat_minor": 2
}
