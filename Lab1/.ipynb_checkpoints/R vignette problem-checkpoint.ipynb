{
 "cells": [
  {
   "cell_type": "code",
   "execution_count": 2,
   "metadata": {
    "collapsed": false
   },
   "outputs": [
    {
     "name": "stdout",
     "output_type": "stream",
     "text": [
      "[1] \"Using direct authentication\"\n"
     ]
    },
    {
     "data": {
      "text/html": [
       "'Follow and redeem your free Garen and Dreadknight skin! https://t.co/BxjyTfrMkJ'"
      ],
      "text/latex": [
       "'Follow and redeem your free Garen and Dreadknight skin! https://t.co/BxjyTfrMkJ'"
      ],
      "text/markdown": [
       "'Follow and redeem your free Garen and Dreadknight skin! https://t.co/BxjyTfrMkJ'"
      ],
      "text/plain": [
       "[1] \"Follow and redeem your free Garen and Dreadknight skin! https://t.co/BxjyTfrMkJ\""
      ]
     },
     "metadata": {},
     "output_type": "display_data"
    }
   ],
   "source": [
    "library(twitteR)\n",
    "setup_twitter_oauth(\"BTMy29ZZHUFi7z7I9prLntB5z\", \"vBsjJdgVcJz6nLwzLicejhf31JvbPAkPnKMgfXnEDrZNVH9d9P\", \"831555967250812928-NRxwY6dlGRhf4gbz89NEZ3UMxx8Ojgq\", \"nDTOXPHJ5gZxirEonPao10IT1Ua8exzxOpddy4vIm7KNk\")\n",
    "input <-\"LeagueOfLegends\"\n",
    "test <- getUser(input)\n",
    "test$getDescription()"
   ]
  },
  {
   "cell_type": "code",
   "execution_count": 3,
   "metadata": {
    "collapsed": false
   },
   "outputs": [
    {
     "data": {
      "text/html": [
       "3400032"
      ],
      "text/latex": [
       "3400032"
      ],
      "text/markdown": [
       "3400032"
      ],
      "text/plain": [
       "[1] 3400032"
      ]
     },
     "metadata": {},
     "output_type": "display_data"
    }
   ],
   "source": [
    "test$getFollowersCount()"
   ]
  },
  {
   "cell_type": "code",
   "execution_count": 4,
   "metadata": {
    "collapsed": false
   },
   "outputs": [
    {
     "data": {
      "text/plain": [
       "$`3061977469`\n",
       "[1] \"vindiesel\"\n",
       "\n",
       "$`26906309`\n",
       "[1] \"minliangtan\"\n",
       "\n",
       "$`348278208`\n",
       "[1] \"TravisGafford\"\n",
       "\n",
       "$`21447900`\n",
       "[1] \"Viranda\"\n",
       "\n",
       "$`777940610`\n",
       "[1] \"Atlustv\"\n"
      ]
     },
     "metadata": {},
     "output_type": "display_data"
    }
   ],
   "source": [
    "test$getFriends(n=5)"
   ]
  },
  {
   "cell_type": "code",
   "execution_count": 5,
   "metadata": {
    "collapsed": false
   },
   "outputs": [
    {
     "data": {
      "text/plain": [
       "[[1]]\n",
       "[1] \"RiotSupport: MFW @riotgames releases a single player practice mode on Valentines Day https://t.co/N7mHGk08z7\"\n",
       "\n",
       "[[2]]\n",
       "[1] \"MarcMerrill: Practice tool now available - #dontfail https://t.co/OWkK3wn5oe https://t.co/8uVTkaaHIK\"\n",
       "\n",
       "[[3]]\n",
       "[1] \"loleu: League’s most eligible bachelors and bachelorettes are now on the hottest new hookup service in Runeterra. Would yo… https://t.co/EKw5YVNv2f\"\n",
       "\n",
       "[[4]]\n",
       "[1] \"tylersmyth: Me and @andyvenom after losing a game of @LeagueOfLegends https://t.co/JC97PIloyl\"\n",
       "\n",
       "[[5]]\n",
       "[1] \"RiotL4T3NCY: No more Practice Tool rollouts for now until next week while we monitor server load on initial regions. Still plan 7.3 global rollout! ^_^b\"\n"
      ]
     },
     "metadata": {},
     "output_type": "display_data"
    }
   ],
   "source": [
    "test$getFavorites(n=5)"
   ]
  },
  {
   "cell_type": "code",
   "execution_count": 6,
   "metadata": {
    "collapsed": false
   },
   "outputs": [
    {
     "data": {
      "text/plain": [
       "[[1]]\n",
       "[1] \"TarreoCOM: Hoy se vivió la revancha del mundial entre SSG vs SKT en la LCK #LeagueOfLegends https://t.co/tL3bN1Cpyd https://t.co/8DS25qrcXv\"\n",
       "\n",
       "[[2]]\n",
       "[1] \"TheRickDias: Sup de peel de Q U A L I D A D E!\\nXXXCarlos acaba de fazer 4/11/7 com Karthus em Summoner's Rift #LeagueOfLegends https://t.co/rAhgTootcL\"\n",
       "\n",
       "[[3]]\n",
       "[1] \"AxlHaart: \\\"How Asian steal the #nexus\\\" #leagueoflegends #lol #gaming https://t.co/ZEjGeW2TNl\"\n",
       "\n",
       "[[4]]\n",
       "[1] \"AerenChan: RT @sarahhaywire: Aw my cosplay of Ahri Arcade #ahricosplay #LeagueOfLegends #leagueoflegendscosplay #ahriarcade \\xed\\xa0\\xbd\\xed\\xb2\\x97\\xed\\xa0\\xbc\\xed\\xbc\\x9f\\u2b50 https://t.co/pcwf5NsYd3\"\n",
       "\n",
       "[[5]]\n",
       "[1] \"5l9xxtBypj3tLKy: RT @galen_md: Po przerwie wracam do formy ;) niby to ARAM, ale ciągle to penta ;) oficjalna i nieoficjalna #pentakill #LeagueOfLegends #ara…\"\n",
       "\n",
       "[[6]]\n",
       "[1] \"h4EOvarGXXkPl7O: RT @malibucola25: I did Allright in #lol #LeagueOfLegends https://t.co/z5Fp0hiKlq\"\n"
      ]
     },
     "metadata": {},
     "output_type": "display_data"
    }
   ],
   "source": [
    "tweets <- searchTwitter('#LeagueOfLegends', n=20)\n",
    "head(tweets)"
   ]
  }
 ],
 "metadata": {
  "kernelspec": {
   "display_name": "R",
   "language": "R",
   "name": "ir"
  },
  "language_info": {
   "codemirror_mode": "r",
   "file_extension": ".r",
   "mimetype": "text/x-r-source",
   "name": "R",
   "pygments_lexer": "r",
   "version": "3.3.2"
  }
 },
 "nbformat": 4,
 "nbformat_minor": 2
}
