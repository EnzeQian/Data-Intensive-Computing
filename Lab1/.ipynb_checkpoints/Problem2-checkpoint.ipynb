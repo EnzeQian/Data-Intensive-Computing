{
 "cells": [
  {
   "cell_type": "code",
   "execution_count": 1,
   "metadata": {
    "collapsed": false
   },
   "outputs": [
    {
     "name": "stdout",
     "output_type": "stream",
     "text": [
      "Buffalo\n"
     ]
    }
   ],
   "source": [
    "from ipywidgets import widgets\n",
    "from IPython.display import display\n",
    "text= widgets.Text(description=\"Please enter location\")\n",
    "display(text)\n",
    "button=widgets.Button(description=\"Search\")\n",
    "display(button)\n",
    "def clicked(b):\n",
    "    file=open(r'input2.txt','w')\n",
    "    file.write(text.value)\n",
    "    file.close()\n",
    "    print(text.value)\n",
    "button.on_click(clicked)"
   ]
  },
  {
   "cell_type": "code",
   "execution_count": 1,
   "metadata": {
    "collapsed": false
   },
   "outputs": [
    {
     "name": "stdout",
     "output_type": "stream",
     "text": [
      "[1] \"Buffalo\"\n"
     ]
    }
   ],
   "source": [
    "input <- readChar(\"input2.txt\", file.info(\"input2.txt\")$size)\n",
    "print(input)"
   ]
  },
  {
   "cell_type": "code",
   "execution_count": 1,
   "metadata": {
    "collapsed": false
   },
   "outputs": [
    {
     "name": "stdout",
     "output_type": "stream",
     "text": [
      "[1] \"Using direct authentication\"\n"
     ]
    },
    {
     "name": "stderr",
     "output_type": "stream",
     "text": [
      "Loading required package: ggplot2\n",
      "Information from URL : http://maps.googleapis.com/maps/api/geocode/json?address=Buffalo,NY&sensor=false\n"
     ]
    },
    {
     "name": "stdout",
     "output_type": "stream",
     "text": [
      "        lon      lat\n",
      "1 -78.87837 42.88645\n"
     ]
    }
   ],
   "source": [
    "library(twitteR)\n",
    "setup_twitter_oauth(\"BTMy29ZZHUFi7z7I9prLntB5z\", \"vBsjJdgVcJz6nLwzLicejhf31JvbPAkPnKMgfXnEDrZNVH9d9P\", \"831555967250812928-NRxwY6dlGRhf4gbz89NEZ3UMxx8Ojgq\", \"nDTOXPHJ5gZxirEonPao10IT1Ua8exzxOpddy4vIm7KNk\")\n",
    "library(ggmap)\n",
    "library(ggplot2)\n",
    "input<-\"Buffalo,NY\"\n",
    "location <-geocode(input) \n",
    "print(location)"
   ]
  },
  {
   "cell_type": "code",
   "execution_count": 4,
   "metadata": {
    "collapsed": false
   },
   "outputs": [
    {
     "name": "stdout",
     "output_type": "stream",
     "text": [
      "[1] \"The 10 top things are:\"\n",
      " [1] \"#BBNaija\"                      \"#TheQueenMzansi\"              \n",
      " [3] \"#ThingsDineoShouldTakeWithHer\" \"#TheRanakas\"                  \n",
      " [5] \"#CuttingEdge\"                  \"Pogba\"                        \n",
      " [7] \"Nike\"                          \"United\"                       \n",
      " [9] \"Mozambique\"                    \"Rand\"                         \n"
     ]
    }
   ],
   "source": [
    "id<-closestTrendLocations(location[1,1],location[1,2])\n",
    "trends <-getTrends(id$woeid, exclude=NULL)\n",
    "trends <-trends[1:10,c(1)]\n",
    "print(\"The 10 top things are:\")\n",
    "print(trends)\n"
   ]
  }
 ],
 "metadata": {
  "kernelspec": {
   "display_name": "R",
   "language": "R",
   "name": "ir"
  },
  "language_info": {
   "codemirror_mode": "r",
   "file_extension": ".r",
   "mimetype": "text/x-r-source",
   "name": "R",
   "pygments_lexer": "r",
   "version": "3.3.2"
  }
 },
 "nbformat": 4,
 "nbformat_minor": 2
}
