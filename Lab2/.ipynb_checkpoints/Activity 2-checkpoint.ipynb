{
 "cells": [
  {
   "cell_type": "code",
   "execution_count": 1,
   "metadata": {
    "collapsed": false
   },
   "outputs": [
    {
     "name": "stderr",
     "output_type": "stream",
     "text": [
      "\n",
      "Attaching package: ‘dplyr’\n",
      "\n",
      "The following objects are masked from ‘package:stats’:\n",
      "\n",
      "    filter, lag\n",
      "\n",
      "The following objects are masked from ‘package:base’:\n",
      "\n",
      "    intersect, setdiff, setequal, union\n",
      "\n"
     ]
    },
    {
     "data": {
      "text/plain": [
       "src:  sqlite 3.11.1 [database.sqlite]\n",
       "tbls: Country, League, Match, Player, Player_Attributes, Team, Team_Attributes,\n",
       "  sqlite_sequence"
      ]
     },
     "metadata": {},
     "output_type": "display_data"
    }
   ],
   "source": [
    "library(dplyr)\n",
    "mydb <- src_sqlite(\"database.sqlite\",create = F)\n",
    "mydb"
   ]
  },
  {
   "cell_type": "code",
   "execution_count": 8,
   "metadata": {
    "collapsed": false
   },
   "outputs": [
    {
     "data": {
      "text/plain": [
       "Source:   query [?? x 3]\n",
       "Database: sqlite 3.11.1 [database.sqlite]\n",
       "\n",
       "     id country_id                   name\n",
       "  <int>      <int>                  <chr>\n",
       "1     1          1 Belgium Jupiler League\n",
       "2  1729       1729 England Premier League\n",
       "3  4769       4769         France Ligue 1\n",
       "4  7809       7809  Germany 1. Bundesliga\n",
       "5 10257      10257          Italy Serie A\n",
       "6 13274      13274 Netherlands Eredivisie"
      ]
     },
     "metadata": {},
     "output_type": "display_data"
    }
   ],
   "source": [
    "League <- tbl(mydb,\"League\")\n",
    "head(League)"
   ]
  },
  {
   "cell_type": "code",
   "execution_count": 9,
   "metadata": {
    "collapsed": false,
    "scrolled": true
   },
   "outputs": [
    {
     "data": {
      "text/plain": [
       "Source:   query [?? x 115]\n",
       "Database: sqlite 3.11.1 [database.sqlite]\n",
       "\n",
       "     id country_id league_id    season stage                date match_api_id\n",
       "  <int>      <int>     <int>     <chr> <int>               <chr>        <int>\n",
       "1     1          1         1 2008/2009     1 2008-08-17 00:00:00       492473\n",
       "2     2          1         1 2008/2009     1 2008-08-16 00:00:00       492474\n",
       "3     3          1         1 2008/2009     1 2008-08-16 00:00:00       492475\n",
       "4     4          1         1 2008/2009     1 2008-08-17 00:00:00       492476\n",
       "5     5          1         1 2008/2009     1 2008-08-16 00:00:00       492477\n",
       "6     6          1         1 2008/2009     1 2008-09-24 00:00:00       492478\n",
       "# ... with 108 more variables: home_team_api_id <int>, away_team_api_id <int>,\n",
       "#   home_team_goal <int>, away_team_goal <int>, home_player_X1 <int>,\n",
       "#   home_player_X2 <int>, home_player_X3 <int>, home_player_X4 <int>,\n",
       "#   home_player_X5 <int>, home_player_X6 <int>, home_player_X7 <int>,\n",
       "#   home_player_X8 <int>, home_player_X9 <int>, home_player_X10 <int>,\n",
       "#   home_player_X11 <int>, away_player_X1 <int>, away_player_X2 <int>,\n",
       "#   away_player_X3 <int>, away_player_X4 <int>, away_player_X5 <int>,\n",
       "#   away_player_X6 <int>, away_player_X7 <int>, away_player_X8 <int>,\n",
       "#   away_player_X9 <int>, away_player_X10 <int>, away_player_X11 <int>,\n",
       "#   home_player_Y1 <int>, home_player_Y2 <int>, home_player_Y3 <int>,\n",
       "#   home_player_Y4 <int>, home_player_Y5 <int>, home_player_Y6 <int>,\n",
       "#   home_player_Y7 <int>, home_player_Y8 <int>, home_player_Y9 <int>,\n",
       "#   home_player_Y10 <int>, home_player_Y11 <int>, away_player_Y1 <int>,\n",
       "#   away_player_Y2 <int>, away_player_Y3 <int>, away_player_Y4 <int>,\n",
       "#   away_player_Y5 <int>, away_player_Y6 <int>, away_player_Y7 <int>,\n",
       "#   away_player_Y8 <int>, away_player_Y9 <int>, away_player_Y10 <int>,\n",
       "#   away_player_Y11 <int>, home_player_1 <int>, home_player_2 <int>,\n",
       "#   home_player_3 <int>, home_player_4 <int>, home_player_5 <int>,\n",
       "#   home_player_6 <int>, home_player_7 <int>, home_player_8 <int>,\n",
       "#   home_player_9 <int>, home_player_10 <int>, home_player_11 <int>,\n",
       "#   away_player_1 <int>, away_player_2 <int>, away_player_3 <int>,\n",
       "#   away_player_4 <int>, away_player_5 <int>, away_player_6 <int>,\n",
       "#   away_player_7 <int>, away_player_8 <int>, away_player_9 <int>,\n",
       "#   away_player_10 <int>, away_player_11 <int>, goal <chr>, shoton <chr>,\n",
       "#   shotoff <chr>, foulcommit <chr>, card <chr>, cross <chr>, corner <chr>,\n",
       "#   possession <chr>, B365H <dbl>, B365D <dbl>, B365A <int>, BWH <dbl>,\n",
       "#   BWD <dbl>, BWA <dbl>, IWH <dbl>, IWD <dbl>, IWA <dbl>, LBH <dbl>,\n",
       "#   LBD <dbl>, LBA <dbl>, PSH <dbl>, PSD <dbl>, PSA <dbl>, WHH <dbl>,\n",
       "#   WHD <dbl>, WHA <dbl>, SJH <dbl>, SJD <dbl>, SJA <int>, VCH <dbl>, ..."
      ]
     },
     "metadata": {},
     "output_type": "display_data"
    }
   ],
   "source": [
    "Match <- tbl(mydb,\"Match\")\n",
    "head(Match)"
   ]
  },
  {
   "cell_type": "code",
   "execution_count": 10,
   "metadata": {
    "collapsed": false
   },
   "outputs": [
    {
     "data": {
      "text/html": [
       "<table>\n",
       "<thead><tr><th scope=col>player_api_id</th><th scope=col>appearences</th><th scope=col>LeagueNum</th></tr></thead>\n",
       "<tbody>\n",
       "\t<tr><td>31293</td><td>300  </td><td>1    </td></tr>\n",
       "\t<tr><td>41097</td><td>294  </td><td>1    </td></tr>\n",
       "\t<tr><td>33764</td><td>286  </td><td>1    </td></tr>\n",
       "\t<tr><td>42422</td><td>286  </td><td>1    </td></tr>\n",
       "\t<tr><td>26295</td><td>282  </td><td>2    </td></tr>\n",
       "\t<tr><td>31465</td><td>282  </td><td>1    </td></tr>\n",
       "\t<tr><td>31432</td><td>275  </td><td>1    </td></tr>\n",
       "\t<tr><td>26168</td><td>268  </td><td>1    </td></tr>\n",
       "\t<tr><td>26399</td><td>262  </td><td>1    </td></tr>\n",
       "\t<tr><td>94550</td><td>260  </td><td>2    </td></tr>\n",
       "\t<tr><td>30893</td><td>259  </td><td>2    </td></tr>\n",
       "\t<tr><td>23782</td><td>258  </td><td>1    </td></tr>\n",
       "\t<tr><td>38433</td><td>257  </td><td>3    </td></tr>\n",
       "\t<tr><td>41658</td><td>257  </td><td>1    </td></tr>\n",
       "\t<tr><td>27299</td><td>255  </td><td>1    </td></tr>\n",
       "\t<tr><td>32575</td><td>254  </td><td>1    </td></tr>\n",
       "\t<tr><td>23792</td><td>253  </td><td>2    </td></tr>\n",
       "\t<tr><td>40695</td><td>253  </td><td>1    </td></tr>\n",
       "\t<tr><td>42276</td><td>253  </td><td>1    </td></tr>\n",
       "\t<tr><td>56678</td><td>252  </td><td>1    </td></tr>\n",
       "\t<tr><td>24846</td><td>251  </td><td>1    </td></tr>\n",
       "\t<tr><td>30859</td><td>251  </td><td>1    </td></tr>\n",
       "\t<tr><td>38424</td><td>250  </td><td>1    </td></tr>\n",
       "\t<tr><td>30660</td><td>249  </td><td>3    </td></tr>\n",
       "\t<tr><td>30981</td><td>249  </td><td>1    </td></tr>\n",
       "\t<tr><td>32569</td><td>248  </td><td>2    </td></tr>\n",
       "\t<tr><td>39477</td><td>247  </td><td>1    </td></tr>\n",
       "\t<tr><td>41466</td><td>247  </td><td>2    </td></tr>\n",
       "\t<tr><td>30907</td><td>245  </td><td>3    </td></tr>\n",
       "\t<tr><td>34447</td><td>245  </td><td>1    </td></tr>\n",
       "\t<tr><td>⋮</td><td>⋮</td><td>⋮</td></tr>\n",
       "\t<tr><td>661509</td><td>1     </td><td>1     </td></tr>\n",
       "\t<tr><td>662818</td><td>1     </td><td>1     </td></tr>\n",
       "\t<tr><td>664961</td><td>1     </td><td>1     </td></tr>\n",
       "\t<tr><td>667786</td><td>1     </td><td>1     </td></tr>\n",
       "\t<tr><td>667952</td><td>1     </td><td>1     </td></tr>\n",
       "\t<tr><td>667964</td><td>1     </td><td>1     </td></tr>\n",
       "\t<tr><td>667970</td><td>1     </td><td>1     </td></tr>\n",
       "\t<tr><td>670927</td><td>1     </td><td>1     </td></tr>\n",
       "\t<tr><td>671518</td><td>1     </td><td>1     </td></tr>\n",
       "\t<tr><td>674492</td><td>1     </td><td>1     </td></tr>\n",
       "\t<tr><td>675088</td><td>1     </td><td>1     </td></tr>\n",
       "\t<tr><td>680031</td><td>1     </td><td>1     </td></tr>\n",
       "\t<tr><td>684723</td><td>1     </td><td>1     </td></tr>\n",
       "\t<tr><td>687572</td><td>1     </td><td>1     </td></tr>\n",
       "\t<tr><td>689987</td><td>1     </td><td>1     </td></tr>\n",
       "\t<tr><td>690290</td><td>1     </td><td>1     </td></tr>\n",
       "\t<tr><td>703659</td><td>1     </td><td>1     </td></tr>\n",
       "\t<tr><td>710807</td><td>1     </td><td>1     </td></tr>\n",
       "\t<tr><td>715642</td><td>1     </td><td>1     </td></tr>\n",
       "\t<tr><td>716998</td><td>1     </td><td>1     </td></tr>\n",
       "\t<tr><td>717270</td><td>1     </td><td>1     </td></tr>\n",
       "\t<tr><td>725718</td><td>1     </td><td>1     </td></tr>\n",
       "\t<tr><td>728414</td><td>1     </td><td>1     </td></tr>\n",
       "\t<tr><td>728478</td><td>1     </td><td>1     </td></tr>\n",
       "\t<tr><td>730065</td><td>1     </td><td>1     </td></tr>\n",
       "\t<tr><td>742405</td><td>1     </td><td>1     </td></tr>\n",
       "\t<tr><td>743720</td><td>1     </td><td>1     </td></tr>\n",
       "\t<tr><td>744907</td><td>1     </td><td>1     </td></tr>\n",
       "\t<tr><td>750435</td><td>1     </td><td>1     </td></tr>\n",
       "\t<tr><td>750584</td><td>1     </td><td>1     </td></tr>\n",
       "</tbody>\n",
       "</table>\n"
      ],
      "text/latex": [
       "\\begin{tabular}{r|lll}\n",
       " player\\_api\\_id & appearences & LeagueNum\\\\\n",
       "\\hline\n",
       "\t 31293 & 300   & 1    \\\\\n",
       "\t 41097 & 294   & 1    \\\\\n",
       "\t 33764 & 286   & 1    \\\\\n",
       "\t 42422 & 286   & 1    \\\\\n",
       "\t 26295 & 282   & 2    \\\\\n",
       "\t 31465 & 282   & 1    \\\\\n",
       "\t 31432 & 275   & 1    \\\\\n",
       "\t 26168 & 268   & 1    \\\\\n",
       "\t 26399 & 262   & 1    \\\\\n",
       "\t 94550 & 260   & 2    \\\\\n",
       "\t 30893 & 259   & 2    \\\\\n",
       "\t 23782 & 258   & 1    \\\\\n",
       "\t 38433 & 257   & 3    \\\\\n",
       "\t 41658 & 257   & 1    \\\\\n",
       "\t 27299 & 255   & 1    \\\\\n",
       "\t 32575 & 254   & 1    \\\\\n",
       "\t 23792 & 253   & 2    \\\\\n",
       "\t 40695 & 253   & 1    \\\\\n",
       "\t 42276 & 253   & 1    \\\\\n",
       "\t 56678 & 252   & 1    \\\\\n",
       "\t 24846 & 251   & 1    \\\\\n",
       "\t 30859 & 251   & 1    \\\\\n",
       "\t 38424 & 250   & 1    \\\\\n",
       "\t 30660 & 249   & 3    \\\\\n",
       "\t 30981 & 249   & 1    \\\\\n",
       "\t 32569 & 248   & 2    \\\\\n",
       "\t 39477 & 247   & 1    \\\\\n",
       "\t 41466 & 247   & 2    \\\\\n",
       "\t 30907 & 245   & 3    \\\\\n",
       "\t 34447 & 245   & 1    \\\\\n",
       "\t ⋮ & ⋮ & ⋮\\\\\n",
       "\t 661509 & 1      & 1     \\\\\n",
       "\t 662818 & 1      & 1     \\\\\n",
       "\t 664961 & 1      & 1     \\\\\n",
       "\t 667786 & 1      & 1     \\\\\n",
       "\t 667952 & 1      & 1     \\\\\n",
       "\t 667964 & 1      & 1     \\\\\n",
       "\t 667970 & 1      & 1     \\\\\n",
       "\t 670927 & 1      & 1     \\\\\n",
       "\t 671518 & 1      & 1     \\\\\n",
       "\t 674492 & 1      & 1     \\\\\n",
       "\t 675088 & 1      & 1     \\\\\n",
       "\t 680031 & 1      & 1     \\\\\n",
       "\t 684723 & 1      & 1     \\\\\n",
       "\t 687572 & 1      & 1     \\\\\n",
       "\t 689987 & 1      & 1     \\\\\n",
       "\t 690290 & 1      & 1     \\\\\n",
       "\t 703659 & 1      & 1     \\\\\n",
       "\t 710807 & 1      & 1     \\\\\n",
       "\t 715642 & 1      & 1     \\\\\n",
       "\t 716998 & 1      & 1     \\\\\n",
       "\t 717270 & 1      & 1     \\\\\n",
       "\t 725718 & 1      & 1     \\\\\n",
       "\t 728414 & 1      & 1     \\\\\n",
       "\t 728478 & 1      & 1     \\\\\n",
       "\t 730065 & 1      & 1     \\\\\n",
       "\t 742405 & 1      & 1     \\\\\n",
       "\t 743720 & 1      & 1     \\\\\n",
       "\t 744907 & 1      & 1     \\\\\n",
       "\t 750435 & 1      & 1     \\\\\n",
       "\t 750584 & 1      & 1     \\\\\n",
       "\\end{tabular}\n"
      ],
      "text/markdown": [
       "\n",
       "player_api_id | appearences | LeagueNum | \n",
       "|---|---|---|---|---|---|---|---|---|---|---|---|---|---|---|---|---|---|---|---|---|---|---|---|---|---|---|---|---|---|---|---|---|---|---|---|---|---|---|---|---|---|---|---|---|---|---|---|---|---|---|---|---|---|---|---|---|---|---|---|---|\n",
       "| 31293 | 300   | 1     | \n",
       "| 41097 | 294   | 1     | \n",
       "| 33764 | 286   | 1     | \n",
       "| 42422 | 286   | 1     | \n",
       "| 26295 | 282   | 2     | \n",
       "| 31465 | 282   | 1     | \n",
       "| 31432 | 275   | 1     | \n",
       "| 26168 | 268   | 1     | \n",
       "| 26399 | 262   | 1     | \n",
       "| 94550 | 260   | 2     | \n",
       "| 30893 | 259   | 2     | \n",
       "| 23782 | 258   | 1     | \n",
       "| 38433 | 257   | 3     | \n",
       "| 41658 | 257   | 1     | \n",
       "| 27299 | 255   | 1     | \n",
       "| 32575 | 254   | 1     | \n",
       "| 23792 | 253   | 2     | \n",
       "| 40695 | 253   | 1     | \n",
       "| 42276 | 253   | 1     | \n",
       "| 56678 | 252   | 1     | \n",
       "| 24846 | 251   | 1     | \n",
       "| 30859 | 251   | 1     | \n",
       "| 38424 | 250   | 1     | \n",
       "| 30660 | 249   | 3     | \n",
       "| 30981 | 249   | 1     | \n",
       "| 32569 | 248   | 2     | \n",
       "| 39477 | 247   | 1     | \n",
       "| 41466 | 247   | 2     | \n",
       "| 30907 | 245   | 3     | \n",
       "| 34447 | 245   | 1     | \n",
       "| ⋮ | ⋮ | ⋮ | \n",
       "| 661509 | 1      | 1      | \n",
       "| 662818 | 1      | 1      | \n",
       "| 664961 | 1      | 1      | \n",
       "| 667786 | 1      | 1      | \n",
       "| 667952 | 1      | 1      | \n",
       "| 667964 | 1      | 1      | \n",
       "| 667970 | 1      | 1      | \n",
       "| 670927 | 1      | 1      | \n",
       "| 671518 | 1      | 1      | \n",
       "| 674492 | 1      | 1      | \n",
       "| 675088 | 1      | 1      | \n",
       "| 680031 | 1      | 1      | \n",
       "| 684723 | 1      | 1      | \n",
       "| 687572 | 1      | 1      | \n",
       "| 689987 | 1      | 1      | \n",
       "| 690290 | 1      | 1      | \n",
       "| 703659 | 1      | 1      | \n",
       "| 710807 | 1      | 1      | \n",
       "| 715642 | 1      | 1      | \n",
       "| 716998 | 1      | 1      | \n",
       "| 717270 | 1      | 1      | \n",
       "| 725718 | 1      | 1      | \n",
       "| 728414 | 1      | 1      | \n",
       "| 728478 | 1      | 1      | \n",
       "| 730065 | 1      | 1      | \n",
       "| 742405 | 1      | 1      | \n",
       "| 743720 | 1      | 1      | \n",
       "| 744907 | 1      | 1      | \n",
       "| 750435 | 1      | 1      | \n",
       "| 750584 | 1      | 1      | \n",
       "\n",
       "\n"
      ],
      "text/plain": [
       "      player_api_id appearences LeagueNum\n",
       "1     31293         300         1        \n",
       "2     41097         294         1        \n",
       "3     33764         286         1        \n",
       "4     42422         286         1        \n",
       "5     26295         282         2        \n",
       "6     31465         282         1        \n",
       "7     31432         275         1        \n",
       "8     26168         268         1        \n",
       "9     26399         262         1        \n",
       "10    94550         260         2        \n",
       "11    30893         259         2        \n",
       "12    23782         258         1        \n",
       "13    38433         257         3        \n",
       "14    41658         257         1        \n",
       "15    27299         255         1        \n",
       "16    32575         254         1        \n",
       "17    23792         253         2        \n",
       "18    40695         253         1        \n",
       "19    42276         253         1        \n",
       "20    56678         252         1        \n",
       "21    24846         251         1        \n",
       "22    30859         251         1        \n",
       "23    38424         250         1        \n",
       "24    30660         249         3        \n",
       "25    30981         249         1        \n",
       "26    32569         248         2        \n",
       "27    39477         247         1        \n",
       "28    41466         247         2        \n",
       "29    30907         245         3        \n",
       "30    34447         245         1        \n",
       "⋮     ⋮             ⋮           ⋮        \n",
       "11031 661509        1           1        \n",
       "11032 662818        1           1        \n",
       "11033 664961        1           1        \n",
       "11034 667786        1           1        \n",
       "11035 667952        1           1        \n",
       "11036 667964        1           1        \n",
       "11037 667970        1           1        \n",
       "11038 670927        1           1        \n",
       "11039 671518        1           1        \n",
       "11040 674492        1           1        \n",
       "11041 675088        1           1        \n",
       "11042 680031        1           1        \n",
       "11043 684723        1           1        \n",
       "11044 687572        1           1        \n",
       "11045 689987        1           1        \n",
       "11046 690290        1           1        \n",
       "11047 703659        1           1        \n",
       "11048 710807        1           1        \n",
       "11049 715642        1           1        \n",
       "11050 716998        1           1        \n",
       "11051 717270        1           1        \n",
       "11052 725718        1           1        \n",
       "11053 728414        1           1        \n",
       "11054 728478        1           1        \n",
       "11055 730065        1           1        \n",
       "11056 742405        1           1        \n",
       "11057 743720        1           1        \n",
       "11058 744907        1           1        \n",
       "11059 750435        1           1        \n",
       "11060 750584        1           1        "
      ]
     },
     "metadata": {},
     "output_type": "display_data"
    }
   ],
   "source": [
    "library(tidyr)\n",
    "test <- data.frame(Match %>%\n",
    "  select(home_player_1 : away_player_11,league_id) )%>%\n",
    "  gather(player, player_api_id,-league_id, na.rm = TRUE)\n",
    "\n",
    "result <-test %>% \n",
    "group_by(player_api_id)%>% \n",
    "summarise(appearences=n(),LeagueNum=n_distinct(league_id))\n",
    "\n",
    "arrange(result, desc(appearences))"
   ]
  },
  {
   "cell_type": "code",
   "execution_count": 11,
   "metadata": {
    "collapsed": false
   },
   "outputs": [
    {
     "data": {
      "text/html": [
       "<table>\n",
       "<thead><tr><th scope=col>team_api_id</th><th scope=col>goals</th></tr></thead>\n",
       "<tbody>\n",
       "\t<tr><td>1601</td><td>280 </td></tr>\n",
       "\t<tr><td>1773</td><td>126 </td></tr>\n",
       "\t<tr><td>1957</td><td>287 </td></tr>\n",
       "\t<tr><td>2033</td><td>138 </td></tr>\n",
       "\t<tr><td>2182</td><td>372 </td></tr>\n",
       "\t<tr><td>2183</td><td>184 </td></tr>\n",
       "\t<tr><td>2186</td><td>235 </td></tr>\n",
       "\t<tr><td>4049</td><td> 35 </td></tr>\n",
       "\t<tr><td>4064</td><td> 27 </td></tr>\n",
       "\t<tr><td>4087</td><td>180 </td></tr>\n",
       "\t<tr><td>4170</td><td> 31 </td></tr>\n",
       "\t<tr><td>6269</td><td> 34 </td></tr>\n",
       "\t<tr><td>6351</td><td> 28 </td></tr>\n",
       "\t<tr><td>6367</td><td> 27 </td></tr>\n",
       "\t<tr><td>6391</td><td> 37 </td></tr>\n",
       "\t<tr><td>6403</td><td>292 </td></tr>\n",
       "\t<tr><td>6413</td><td>204 </td></tr>\n",
       "\t<tr><td>6421</td><td> 55 </td></tr>\n",
       "\t<tr><td>6433</td><td> 74 </td></tr>\n",
       "\t<tr><td>6493</td><td>128 </td></tr>\n",
       "\t<tr><td>6547</td><td> 29 </td></tr>\n",
       "\t<tr><td>6601</td><td> 38 </td></tr>\n",
       "\t<tr><td>6631</td><td> 24 </td></tr>\n",
       "\t<tr><td>7730</td><td> 99 </td></tr>\n",
       "\t<tr><td>7788</td><td>119 </td></tr>\n",
       "\t<tr><td>7794</td><td>165 </td></tr>\n",
       "\t<tr><td>7819</td><td>220 </td></tr>\n",
       "\t<tr><td>7841</td><td>248 </td></tr>\n",
       "\t<tr><td>7842</td><td>167 </td></tr>\n",
       "\t<tr><td>7844</td><td>300 </td></tr>\n",
       "\t<tr><td>⋮</td><td>⋮</td></tr>\n",
       "\t<tr><td> 10214</td><td>332   </td></tr>\n",
       "\t<tr><td> 10215</td><td>240   </td></tr>\n",
       "\t<tr><td> 10217</td><td>366   </td></tr>\n",
       "\t<tr><td> 10218</td><td>154   </td></tr>\n",
       "\t<tr><td> 10219</td><td>153   </td></tr>\n",
       "\t<tr><td> 10228</td><td>470   </td></tr>\n",
       "\t<tr><td> 10229</td><td>492   </td></tr>\n",
       "\t<tr><td> 10233</td><td>392   </td></tr>\n",
       "\t<tr><td> 10235</td><td>489   </td></tr>\n",
       "\t<tr><td> 10238</td><td>238   </td></tr>\n",
       "\t<tr><td> 10242</td><td> 71   </td></tr>\n",
       "\t<tr><td> 10243</td><td>468   </td></tr>\n",
       "\t<tr><td> 10249</td><td>344   </td></tr>\n",
       "\t<tr><td> 10251</td><td>259   </td></tr>\n",
       "\t<tr><td> 10252</td><td>335   </td></tr>\n",
       "\t<tr><td> 10260</td><td>582   </td></tr>\n",
       "\t<tr><td> 10261</td><td>324   </td></tr>\n",
       "\t<tr><td> 10264</td><td>398   </td></tr>\n",
       "\t<tr><td> 10265</td><td>332   </td></tr>\n",
       "\t<tr><td> 10267</td><td>484   </td></tr>\n",
       "\t<tr><td> 10268</td><td> 65   </td></tr>\n",
       "\t<tr><td> 10269</td><td>415   </td></tr>\n",
       "\t<tr><td> 10278</td><td> 36   </td></tr>\n",
       "\t<tr><td> 10281</td><td>170   </td></tr>\n",
       "\t<tr><td>108893</td><td> 21   </td></tr>\n",
       "\t<tr><td>158085</td><td>101   </td></tr>\n",
       "\t<tr><td>177361</td><td> 33   </td></tr>\n",
       "\t<tr><td>188163</td><td> 34   </td></tr>\n",
       "\t<tr><td>208931</td><td> 37   </td></tr>\n",
       "\t<tr><td>274581</td><td> 71   </td></tr>\n",
       "</tbody>\n",
       "</table>\n"
      ],
      "text/latex": [
       "\\begin{tabular}{r|ll}\n",
       " team\\_api\\_id & goals\\\\\n",
       "\\hline\n",
       "\t 1601 & 280 \\\\\n",
       "\t 1773 & 126 \\\\\n",
       "\t 1957 & 287 \\\\\n",
       "\t 2033 & 138 \\\\\n",
       "\t 2182 & 372 \\\\\n",
       "\t 2183 & 184 \\\\\n",
       "\t 2186 & 235 \\\\\n",
       "\t 4049 &  35 \\\\\n",
       "\t 4064 &  27 \\\\\n",
       "\t 4087 & 180 \\\\\n",
       "\t 4170 &  31 \\\\\n",
       "\t 6269 &  34 \\\\\n",
       "\t 6351 &  28 \\\\\n",
       "\t 6367 &  27 \\\\\n",
       "\t 6391 &  37 \\\\\n",
       "\t 6403 & 292 \\\\\n",
       "\t 6413 & 204 \\\\\n",
       "\t 6421 &  55 \\\\\n",
       "\t 6433 &  74 \\\\\n",
       "\t 6493 & 128 \\\\\n",
       "\t 6547 &  29 \\\\\n",
       "\t 6601 &  38 \\\\\n",
       "\t 6631 &  24 \\\\\n",
       "\t 7730 &  99 \\\\\n",
       "\t 7788 & 119 \\\\\n",
       "\t 7794 & 165 \\\\\n",
       "\t 7819 & 220 \\\\\n",
       "\t 7841 & 248 \\\\\n",
       "\t 7842 & 167 \\\\\n",
       "\t 7844 & 300 \\\\\n",
       "\t ⋮ & ⋮\\\\\n",
       "\t  10214 & 332   \\\\\n",
       "\t  10215 & 240   \\\\\n",
       "\t  10217 & 366   \\\\\n",
       "\t  10218 & 154   \\\\\n",
       "\t  10219 & 153   \\\\\n",
       "\t  10228 & 470   \\\\\n",
       "\t  10229 & 492   \\\\\n",
       "\t  10233 & 392   \\\\\n",
       "\t  10235 & 489   \\\\\n",
       "\t  10238 & 238   \\\\\n",
       "\t  10242 &  71   \\\\\n",
       "\t  10243 & 468   \\\\\n",
       "\t  10249 & 344   \\\\\n",
       "\t  10251 & 259   \\\\\n",
       "\t  10252 & 335   \\\\\n",
       "\t  10260 & 582   \\\\\n",
       "\t  10261 & 324   \\\\\n",
       "\t  10264 & 398   \\\\\n",
       "\t  10265 & 332   \\\\\n",
       "\t  10267 & 484   \\\\\n",
       "\t  10268 &  65   \\\\\n",
       "\t  10269 & 415   \\\\\n",
       "\t  10278 &  36   \\\\\n",
       "\t  10281 & 170   \\\\\n",
       "\t 108893 &  21   \\\\\n",
       "\t 158085 & 101   \\\\\n",
       "\t 177361 &  33   \\\\\n",
       "\t 188163 &  34   \\\\\n",
       "\t 208931 &  37   \\\\\n",
       "\t 274581 &  71   \\\\\n",
       "\\end{tabular}\n"
      ],
      "text/markdown": [
       "\n",
       "team_api_id | goals | \n",
       "|---|---|---|---|---|---|---|---|---|---|---|---|---|---|---|---|---|---|---|---|---|---|---|---|---|---|---|---|---|---|---|---|---|---|---|---|---|---|---|---|---|---|---|---|---|---|---|---|---|---|---|---|---|---|---|---|---|---|---|---|---|\n",
       "| 1601 | 280  | \n",
       "| 1773 | 126  | \n",
       "| 1957 | 287  | \n",
       "| 2033 | 138  | \n",
       "| 2182 | 372  | \n",
       "| 2183 | 184  | \n",
       "| 2186 | 235  | \n",
       "| 4049 |  35  | \n",
       "| 4064 |  27  | \n",
       "| 4087 | 180  | \n",
       "| 4170 |  31  | \n",
       "| 6269 |  34  | \n",
       "| 6351 |  28  | \n",
       "| 6367 |  27  | \n",
       "| 6391 |  37  | \n",
       "| 6403 | 292  | \n",
       "| 6413 | 204  | \n",
       "| 6421 |  55  | \n",
       "| 6433 |  74  | \n",
       "| 6493 | 128  | \n",
       "| 6547 |  29  | \n",
       "| 6601 |  38  | \n",
       "| 6631 |  24  | \n",
       "| 7730 |  99  | \n",
       "| 7788 | 119  | \n",
       "| 7794 | 165  | \n",
       "| 7819 | 220  | \n",
       "| 7841 | 248  | \n",
       "| 7842 | 167  | \n",
       "| 7844 | 300  | \n",
       "| ⋮ | ⋮ | \n",
       "|  10214 | 332    | \n",
       "|  10215 | 240    | \n",
       "|  10217 | 366    | \n",
       "|  10218 | 154    | \n",
       "|  10219 | 153    | \n",
       "|  10228 | 470    | \n",
       "|  10229 | 492    | \n",
       "|  10233 | 392    | \n",
       "|  10235 | 489    | \n",
       "|  10238 | 238    | \n",
       "|  10242 |  71    | \n",
       "|  10243 | 468    | \n",
       "|  10249 | 344    | \n",
       "|  10251 | 259    | \n",
       "|  10252 | 335    | \n",
       "|  10260 | 582    | \n",
       "|  10261 | 324    | \n",
       "|  10264 | 398    | \n",
       "|  10265 | 332    | \n",
       "|  10267 | 484    | \n",
       "|  10268 |  65    | \n",
       "|  10269 | 415    | \n",
       "|  10278 |  36    | \n",
       "|  10281 | 170    | \n",
       "| 108893 |  21    | \n",
       "| 158085 | 101    | \n",
       "| 177361 |  33    | \n",
       "| 188163 |  34    | \n",
       "| 208931 |  37    | \n",
       "| 274581 |  71    | \n",
       "\n",
       "\n"
      ],
      "text/plain": [
       "    team_api_id goals\n",
       "1   1601        280  \n",
       "2   1773        126  \n",
       "3   1957        287  \n",
       "4   2033        138  \n",
       "5   2182        372  \n",
       "6   2183        184  \n",
       "7   2186        235  \n",
       "8   4049         35  \n",
       "9   4064         27  \n",
       "10  4087        180  \n",
       "11  4170         31  \n",
       "12  6269         34  \n",
       "13  6351         28  \n",
       "14  6367         27  \n",
       "15  6391         37  \n",
       "16  6403        292  \n",
       "17  6413        204  \n",
       "18  6421         55  \n",
       "19  6433         74  \n",
       "20  6493        128  \n",
       "21  6547         29  \n",
       "22  6601         38  \n",
       "23  6631         24  \n",
       "24  7730         99  \n",
       "25  7788        119  \n",
       "26  7794        165  \n",
       "27  7819        220  \n",
       "28  7841        248  \n",
       "29  7842        167  \n",
       "30  7844        300  \n",
       "⋮   ⋮           ⋮    \n",
       "270  10214      332  \n",
       "271  10215      240  \n",
       "272  10217      366  \n",
       "273  10218      154  \n",
       "274  10219      153  \n",
       "275  10228      470  \n",
       "276  10229      492  \n",
       "277  10233      392  \n",
       "278  10235      489  \n",
       "279  10238      238  \n",
       "280  10242       71  \n",
       "281  10243      468  \n",
       "282  10249      344  \n",
       "283  10251      259  \n",
       "284  10252      335  \n",
       "285  10260      582  \n",
       "286  10261      324  \n",
       "287  10264      398  \n",
       "288  10265      332  \n",
       "289  10267      484  \n",
       "290  10268       65  \n",
       "291  10269      415  \n",
       "292  10278       36  \n",
       "293  10281      170  \n",
       "294 108893       21  \n",
       "295 158085      101  \n",
       "296 177361       33  \n",
       "297 188163       34  \n",
       "298 208931       37  \n",
       "299 274581       71  "
      ]
     },
     "metadata": {},
     "output_type": "display_data"
    }
   ],
   "source": [
    "home <- data.frame(Match %>%\n",
    "  select(home_team_api_id,home_team_goal) ) %>%\n",
    "  group_by(team_api_id=home_team_api_id) %>%\n",
    "  summarise(goals=sum(home_team_goal))\n",
    "\n",
    "away <- data.frame(Match %>%\n",
    "  select(away_team_api_id,away_team_goal) ) %>%\n",
    "  group_by(team_api_id=away_team_api_id) %>%\n",
    "  summarise(goals=sum(away_team_goal))\n",
    "\n",
    "team_goals <- inner_join(x = home,y = away,by = \"team_api_id\")\n",
    "total <- team_goals %>%\n",
    " group_by(team_api_id) %>%\n",
    " summarise(goals=goals.x+goals.y)\n",
    "\n",
    "total"
   ]
  },
  {
   "cell_type": "code",
   "execution_count": 12,
   "metadata": {
    "collapsed": false,
    "scrolled": false
   },
   "outputs": [
    {
     "data": {
      "text/plain": [
       "Source:   query [?? x 2]\n",
       "Database: sqlite 3.11.1 [database.sqlite]\n",
       "\n",
       "   team_api_id    team_long_name\n",
       "         <int>             <chr>\n",
       "1         9987          KRC Genk\n",
       "2         9993      Beerschot AC\n",
       "3        10000  SV Zulte-Waregem\n",
       "4         9994  Sporting Lokeren\n",
       "5         9984 KSV Cercle Brugge\n",
       "6         8635    RSC Anderlecht\n",
       "7         9991          KAA Gent\n",
       "8         9998         RAEC Mons\n",
       "9         7947     FCV Dender EH\n",
       "10        9985 Standard de Liège\n",
       "# ... with more rows"
      ]
     },
     "metadata": {},
     "output_type": "display_data"
    }
   ],
   "source": [
    "Team <- tbl(mydb,\"Team\")\n",
    "Teamname <-Team %>%\n",
    "select(team_api_id, team_long_name)\n",
    "Teamname"
   ]
  },
  {
   "cell_type": "code",
   "execution_count": 13,
   "metadata": {
    "collapsed": false,
    "scrolled": true
   },
   "outputs": [
    {
     "data": {
      "text/plain": [
       "Source:   query [?? x 4]\n",
       "Database: sqlite 3.11.1 [database.sqlite]\n",
       "\n",
       "   team_api_id  Play Creation Defense\n",
       "         <int> <int>    <int>   <int>\n",
       "1         9930    NA      180     150\n",
       "2         9930   156      181     145\n",
       "3         9930   142      181     145\n",
       "4         8485    NA      210     200\n",
       "5         8485    NA      153     146\n",
       "6         8485    NA      170     140\n",
       "7         8485    NA      145     144\n",
       "8         8485   184      181     143\n",
       "9         8485   176      186     157\n",
       "10        8576    NA      135     130\n",
       "# ... with more rows"
      ]
     },
     "metadata": {},
     "output_type": "display_data"
    }
   ],
   "source": [
    "Team_Attributes <- tbl(mydb,\"Team_Attributes\")\n",
    "Tattributes <-Team_Attributes %>%\n",
    "mutate(Play=buildUpPlaySpeed + buildUpPlayDribbling+ buildUpPlayPassing,Creation=chanceCreationPassing+chanceCreationCrossing+chanceCreationShooting, Defense=defencePressure+defenceAggression+defenceTeamWidth) %>%\n",
    "select(team_api_id, Play, Creation,Defense)\n",
    "Tattributes\n",
    "\n"
   ]
  },
  {
   "cell_type": "code",
   "execution_count": 20,
   "metadata": {
    "collapsed": false,
    "scrolled": true
   },
   "outputs": [],
   "source": [
    "new_team <-inner_join(x = Teamname,y = Tattributes,by = \"team_api_id\")\n",
    "final_team <-inner_join(x = data.frame(new_team),y =total,by = \"team_api_id\")\n",
    "#final_team <-aggregate(cbind(Play,Creation,Defense,goals) ~ team_api_id + team_long_name, final_team, max)\n",
    "write.csv(final_team,\"team.csv\")"
   ]
  },
  {
   "cell_type": "code",
   "execution_count": 34,
   "metadata": {
    "collapsed": false
   },
   "outputs": [
    {
     "data": {
      "text/plain": [
       "Source:   query [?? x 2]\n",
       "Database: sqlite 3.11.1 [database.sqlite]\n",
       "\n",
       "   player_api_id        player_name\n",
       "           <int>              <chr>\n",
       "1         505942 Aaron Appindangoye\n",
       "2         155782    Aaron Cresswell\n",
       "3         162549        Aaron Doran\n",
       "4          30572      Aaron Galindo\n",
       "5          23780       Aaron Hughes\n",
       "6          27316         Aaron Hunt\n",
       "7         564793         Aaron Kuhl\n",
       "8          30895       Aaron Lennon\n",
       "9         528212       Aaron Lennox\n",
       "10        101042      Aaron Meijers\n",
       "# ... with more rows"
      ]
     },
     "metadata": {},
     "output_type": "display_data"
    }
   ],
   "source": [
    "Player <- tbl(mydb,\"Player\")\n",
    "name <-Player %>%\n",
    "select(player_api_id, player_name)\n",
    "name"
   ]
  },
  {
   "cell_type": "code",
   "execution_count": 35,
   "metadata": {
    "collapsed": false,
    "scrolled": true
   },
   "outputs": [
    {
     "data": {
      "text/plain": [
       "Source:   query [?? x 3]\n",
       "Database: sqlite 3.11.1 [database.sqlite]\n",
       "\n",
       "   player_api_id overall_rating GKoverall\n",
       "           <int>          <int>     <int>\n",
       "1         505942             67        43\n",
       "2         505942             67        43\n",
       "3         505942             62        43\n",
       "4         505942             61        38\n",
       "5         505942             61        38\n",
       "6         155782             74        51\n",
       "7         155782             74        51\n",
       "8         155782             73        51\n",
       "9         155782             73        51\n",
       "10        155782             73        51\n",
       "# ... with more rows"
      ]
     },
     "metadata": {},
     "output_type": "display_data"
    }
   ],
   "source": [
    "Player_Attributes <-tbl(mydb,\"Player_Attributes\")\n",
    "attributes <-Player_Attributes %>%\n",
    "mutate(GKoverall=gk_diving + gk_handling+ gk_kicking+ gk_positioning + gk_reflexes) %>%\n",
    "select(player_api_id, overall_rating, GKoverall)\n",
    "attributes"
   ]
  },
  {
   "cell_type": "code",
   "execution_count": 36,
   "metadata": {
    "collapsed": false,
    "scrolled": false
   },
   "outputs": [
    {
     "data": {
      "text/plain": [
       "Source:   query [?? x 4]\n",
       "Database: sqlite 3.11.1 [database.sqlite]\n",
       "\n",
       "   player_api_id        player_name overall_rating GKoverall\n",
       "           <int>              <chr>          <int>     <int>\n",
       "1         505942 Aaron Appindangoye             67        43\n",
       "2         505942 Aaron Appindangoye             67        43\n",
       "3         505942 Aaron Appindangoye             62        43\n",
       "4         505942 Aaron Appindangoye             61        38\n",
       "5         505942 Aaron Appindangoye             61        38\n",
       "6         155782    Aaron Cresswell             74        51\n",
       "7         155782    Aaron Cresswell             74        51\n",
       "8         155782    Aaron Cresswell             73        51\n",
       "9         155782    Aaron Cresswell             73        51\n",
       "10        155782    Aaron Cresswell             73        51\n",
       "# ... with more rows"
      ]
     },
     "metadata": {},
     "output_type": "display_data"
    }
   ],
   "source": [
    "new_player <-inner_join(x = name,y = attributes,by = \"player_api_id\")\n",
    "head(new_player,10)"
   ]
  },
  {
   "cell_type": "code",
   "execution_count": 37,
   "metadata": {
    "collapsed": false,
    "scrolled": true
   },
   "outputs": [],
   "source": [
    "final_player <- inner_join(x = data.frame(new_player),y = result,by = \"player_api_id\")\n",
    "#final_player <-aggregate(cbind(overall_rating,GKoverall,appearences,LeagueNum) ~ player_api_id + player_name, final_player, max)\n",
    "write.csv(final_player,\"player.csv\")"
   ]
  },
  {
   "cell_type": "markdown",
   "metadata": {},
   "source": [
    "# Which are the top 10 players by overall rating?"
   ]
  },
  {
   "cell_type": "code",
   "execution_count": 38,
   "metadata": {
    "collapsed": false
   },
   "outputs": [
    {
     "data": {
      "text/html": [
       "<table>\n",
       "<thead><tr><th scope=col>player_api_id</th><th scope=col>player_name</th><th scope=col>overall_rating</th></tr></thead>\n",
       "<tbody>\n",
       "\t<tr><td>30981            </td><td>Lionel Messi     </td><td>94               </td></tr>\n",
       "\t<tr><td>30893            </td><td>Cristiano Ronaldo</td><td>93               </td></tr>\n",
       "\t<tr><td>30717            </td><td>Gianluigi Buffon </td><td>93               </td></tr>\n",
       "\t<tr><td>30829            </td><td>Wayne Rooney     </td><td>93               </td></tr>\n",
       "\t<tr><td>39989            </td><td>Gregory Coupet   </td><td>92               </td></tr>\n",
       "\t<tr><td>39854            </td><td>Xavi Hernandez   </td><td>92               </td></tr>\n",
       "\t<tr><td>30723            </td><td>Alessandro Nesta </td><td>91               </td></tr>\n",
       "\t<tr><td>30955            </td><td>Andres Iniesta   </td><td>91               </td></tr>\n",
       "\t<tr><td>34520            </td><td>Fabio Cannavaro  </td><td>91               </td></tr>\n",
       "\t<tr><td>30657            </td><td>Iker Casillas    </td><td>91               </td></tr>\n",
       "</tbody>\n",
       "</table>\n"
      ],
      "text/latex": [
       "\\begin{tabular}{r|lll}\n",
       " player\\_api\\_id & player\\_name & overall\\_rating\\\\\n",
       "\\hline\n",
       "\t 30981             & Lionel Messi      & 94               \\\\\n",
       "\t 30893             & Cristiano Ronaldo & 93               \\\\\n",
       "\t 30717             & Gianluigi Buffon  & 93               \\\\\n",
       "\t 30829             & Wayne Rooney      & 93               \\\\\n",
       "\t 39989             & Gregory Coupet    & 92               \\\\\n",
       "\t 39854             & Xavi Hernandez    & 92               \\\\\n",
       "\t 30723             & Alessandro Nesta  & 91               \\\\\n",
       "\t 30955             & Andres Iniesta    & 91               \\\\\n",
       "\t 34520             & Fabio Cannavaro   & 91               \\\\\n",
       "\t 30657             & Iker Casillas     & 91               \\\\\n",
       "\\end{tabular}\n"
      ],
      "text/markdown": [
       "\n",
       "player_api_id | player_name | overall_rating | \n",
       "|---|---|---|---|---|---|---|---|---|---|\n",
       "| 30981             | Lionel Messi      | 94                | \n",
       "| 30893             | Cristiano Ronaldo | 93                | \n",
       "| 30717             | Gianluigi Buffon  | 93                | \n",
       "| 30829             | Wayne Rooney      | 93                | \n",
       "| 39989             | Gregory Coupet    | 92                | \n",
       "| 39854             | Xavi Hernandez    | 92                | \n",
       "| 30723             | Alessandro Nesta  | 91                | \n",
       "| 30955             | Andres Iniesta    | 91                | \n",
       "| 34520             | Fabio Cannavaro   | 91                | \n",
       "| 30657             | Iker Casillas     | 91                | \n",
       "\n",
       "\n"
      ],
      "text/plain": [
       "   player_api_id player_name       overall_rating\n",
       "1  30981         Lionel Messi      94            \n",
       "2  30893         Cristiano Ronaldo 93            \n",
       "3  30717         Gianluigi Buffon  93            \n",
       "4  30829         Wayne Rooney      93            \n",
       "5  39989         Gregory Coupet    92            \n",
       "6  39854         Xavi Hernandez    92            \n",
       "7  30723         Alessandro Nesta  91            \n",
       "8  30955         Andres Iniesta    91            \n",
       "9  34520         Fabio Cannavaro   91            \n",
       "10 30657         Iker Casillas     91            "
      ]
     },
     "metadata": {},
     "output_type": "display_data"
    }
   ],
   "source": [
    "player_overall <-final_player\n",
    "player_overall <-aggregate(overall_rating ~ player_api_id + player_name, player_overall, max)\n",
    "head(arrange(player_overall, desc(overall_rating)),10)"
   ]
  },
  {
   "cell_type": "markdown",
   "metadata": {},
   "source": [
    "# Which are the top 10 goalkeepers by sum of gk attributes?"
   ]
  },
  {
   "cell_type": "code",
   "execution_count": 39,
   "metadata": {
    "collapsed": false
   },
   "outputs": [
    {
     "data": {
      "text/html": [
       "<table>\n",
       "<thead><tr><th scope=col>player_api_id</th><th scope=col>player_name</th><th scope=col>GKoverall</th></tr></thead>\n",
       "<tbody>\n",
       "\t<tr><td> 30717           </td><td>Gianluigi Buffon </td><td>449              </td></tr>\n",
       "\t<tr><td> 39989           </td><td>Gregory Coupet   </td><td>447              </td></tr>\n",
       "\t<tr><td> 30859           </td><td>Petr Cech        </td><td>445              </td></tr>\n",
       "\t<tr><td> 30657           </td><td>Iker Casillas    </td><td>442              </td></tr>\n",
       "\t<tr><td> 27299           </td><td>Manuel Neuer     </td><td>440              </td></tr>\n",
       "\t<tr><td> 30989           </td><td>Julio Cesar      </td><td>438              </td></tr>\n",
       "\t<tr><td> 24503           </td><td>Sebastian Frey   </td><td>437              </td></tr>\n",
       "\t<tr><td> 30726           </td><td>Edwin van der Sar</td><td>436              </td></tr>\n",
       "\t<tr><td>182917           </td><td>David De Gea     </td><td>429              </td></tr>\n",
       "\t<tr><td> 30660           </td><td>Pepe Reina       </td><td>428              </td></tr>\n",
       "</tbody>\n",
       "</table>\n"
      ],
      "text/latex": [
       "\\begin{tabular}{r|lll}\n",
       " player\\_api\\_id & player\\_name & GKoverall\\\\\n",
       "\\hline\n",
       "\t  30717            & Gianluigi Buffon  & 449              \\\\\n",
       "\t  39989            & Gregory Coupet    & 447              \\\\\n",
       "\t  30859            & Petr Cech         & 445              \\\\\n",
       "\t  30657            & Iker Casillas     & 442              \\\\\n",
       "\t  27299            & Manuel Neuer      & 440              \\\\\n",
       "\t  30989            & Julio Cesar       & 438              \\\\\n",
       "\t  24503            & Sebastian Frey    & 437              \\\\\n",
       "\t  30726            & Edwin van der Sar & 436              \\\\\n",
       "\t 182917            & David De Gea      & 429              \\\\\n",
       "\t  30660            & Pepe Reina        & 428              \\\\\n",
       "\\end{tabular}\n"
      ],
      "text/markdown": [
       "\n",
       "player_api_id | player_name | GKoverall | \n",
       "|---|---|---|---|---|---|---|---|---|---|\n",
       "|  30717            | Gianluigi Buffon  | 449               | \n",
       "|  39989            | Gregory Coupet    | 447               | \n",
       "|  30859            | Petr Cech         | 445               | \n",
       "|  30657            | Iker Casillas     | 442               | \n",
       "|  27299            | Manuel Neuer      | 440               | \n",
       "|  30989            | Julio Cesar       | 438               | \n",
       "|  24503            | Sebastian Frey    | 437               | \n",
       "|  30726            | Edwin van der Sar | 436               | \n",
       "| 182917            | David De Gea      | 429               | \n",
       "|  30660            | Pepe Reina        | 428               | \n",
       "\n",
       "\n"
      ],
      "text/plain": [
       "   player_api_id player_name       GKoverall\n",
       "1   30717        Gianluigi Buffon  449      \n",
       "2   39989        Gregory Coupet    447      \n",
       "3   30859        Petr Cech         445      \n",
       "4   30657        Iker Casillas     442      \n",
       "5   27299        Manuel Neuer      440      \n",
       "6   30989        Julio Cesar       438      \n",
       "7   24503        Sebastian Frey    437      \n",
       "8   30726        Edwin van der Sar 436      \n",
       "9  182917        David De Gea      429      \n",
       "10  30660        Pepe Reina        428      "
      ]
     },
     "metadata": {},
     "output_type": "display_data"
    }
   ],
   "source": [
    "player_gk <-final_player\n",
    "player_gk <-aggregate(GKoverall ~ player_api_id + player_name, player_gk, max)\n",
    "head(arrange(player_gk, desc(GKoverall)),10)"
   ]
  },
  {
   "cell_type": "markdown",
   "metadata": {},
   "source": [
    "# Which are the top 10 players by number of appearances"
   ]
  },
  {
   "cell_type": "code",
   "execution_count": 40,
   "metadata": {
    "collapsed": false
   },
   "outputs": [
    {
     "data": {
      "text/html": [
       "<table>\n",
       "<thead><tr><th scope=col>player_api_id</th><th scope=col>player_name</th><th scope=col>appearences</th></tr></thead>\n",
       "<tbody>\n",
       "\t<tr><td>31293               </td><td>Steve Mandanda      </td><td>300                 </td></tr>\n",
       "\t<tr><td>41097               </td><td>Stephane Ruffier    </td><td>294                 </td></tr>\n",
       "\t<tr><td>33764               </td><td>Gorka Iraizoz Moreno</td><td>286                 </td></tr>\n",
       "\t<tr><td>42422               </td><td>Samir Handanovic    </td><td>286                 </td></tr>\n",
       "\t<tr><td>26295               </td><td>Hugo Lloris         </td><td>282                 </td></tr>\n",
       "\t<tr><td>31465               </td><td>Tim Howard          </td><td>282                 </td></tr>\n",
       "\t<tr><td>31432               </td><td>Joe Hart            </td><td>275                 </td></tr>\n",
       "\t<tr><td>26168               </td><td>Cedric Carrasso     </td><td>268                 </td></tr>\n",
       "\t<tr><td>26399               </td><td>Daniel Congre       </td><td>262                 </td></tr>\n",
       "\t<tr><td>94550               </td><td>Moussa Sissoko      </td><td>260                 </td></tr>\n",
       "</tbody>\n",
       "</table>\n"
      ],
      "text/latex": [
       "\\begin{tabular}{r|lll}\n",
       " player\\_api\\_id & player\\_name & appearences\\\\\n",
       "\\hline\n",
       "\t 31293                & Steve Mandanda       & 300                 \\\\\n",
       "\t 41097                & Stephane Ruffier     & 294                 \\\\\n",
       "\t 33764                & Gorka Iraizoz Moreno & 286                 \\\\\n",
       "\t 42422                & Samir Handanovic     & 286                 \\\\\n",
       "\t 26295                & Hugo Lloris          & 282                 \\\\\n",
       "\t 31465                & Tim Howard           & 282                 \\\\\n",
       "\t 31432                & Joe Hart             & 275                 \\\\\n",
       "\t 26168                & Cedric Carrasso      & 268                 \\\\\n",
       "\t 26399                & Daniel Congre        & 262                 \\\\\n",
       "\t 94550                & Moussa Sissoko       & 260                 \\\\\n",
       "\\end{tabular}\n"
      ],
      "text/markdown": [
       "\n",
       "player_api_id | player_name | appearences | \n",
       "|---|---|---|---|---|---|---|---|---|---|\n",
       "| 31293                | Steve Mandanda       | 300                  | \n",
       "| 41097                | Stephane Ruffier     | 294                  | \n",
       "| 33764                | Gorka Iraizoz Moreno | 286                  | \n",
       "| 42422                | Samir Handanovic     | 286                  | \n",
       "| 26295                | Hugo Lloris          | 282                  | \n",
       "| 31465                | Tim Howard           | 282                  | \n",
       "| 31432                | Joe Hart             | 275                  | \n",
       "| 26168                | Cedric Carrasso      | 268                  | \n",
       "| 26399                | Daniel Congre        | 262                  | \n",
       "| 94550                | Moussa Sissoko       | 260                  | \n",
       "\n",
       "\n"
      ],
      "text/plain": [
       "   player_api_id player_name          appearences\n",
       "1  31293         Steve Mandanda       300        \n",
       "2  41097         Stephane Ruffier     294        \n",
       "3  33764         Gorka Iraizoz Moreno 286        \n",
       "4  42422         Samir Handanovic     286        \n",
       "5  26295         Hugo Lloris          282        \n",
       "6  31465         Tim Howard           282        \n",
       "7  31432         Joe Hart             275        \n",
       "8  26168         Cedric Carrasso      268        \n",
       "9  26399         Daniel Congre        262        \n",
       "10 94550         Moussa Sissoko       260        "
      ]
     },
     "metadata": {},
     "output_type": "display_data"
    }
   ],
   "source": [
    "player_ap <-final_player\n",
    "player_ap <-aggregate(appearences~ player_api_id + player_name, player_ap, max)\n",
    "head(arrange(player_ap, desc(appearences)),10)"
   ]
  },
  {
   "cell_type": "markdown",
   "metadata": {},
   "source": [
    "# Which are the top 10 players by number of leagues they played in?"
   ]
  },
  {
   "cell_type": "code",
   "execution_count": 41,
   "metadata": {
    "collapsed": false
   },
   "outputs": [
    {
     "data": {
      "text/html": [
       "<table>\n",
       "<thead><tr><th scope=col>player_api_id</th><th scope=col>player_name</th><th scope=col>LeagueNum</th></tr></thead>\n",
       "<tbody>\n",
       "\t<tr><td> 42119               </td><td>Gelson Fernandes     </td><td>6                    </td></tr>\n",
       "\t<tr><td>178538               </td><td>Filip Djuricic       </td><td>5                    </td></tr>\n",
       "\t<tr><td>116750               </td><td>Ricky van Wolfswinkel</td><td>5                    </td></tr>\n",
       "\t<tr><td>156534               </td><td>Aleksandar Tonev     </td><td>4                    </td></tr>\n",
       "\t<tr><td>129918               </td><td>Alfred Finnbogason   </td><td>4                    </td></tr>\n",
       "\t<tr><td> 25816               </td><td>Almen Abdi           </td><td>4                    </td></tr>\n",
       "\t<tr><td> 93484               </td><td>Aly Cissokho         </td><td>4                    </td></tr>\n",
       "\t<tr><td> 46509               </td><td>Angel Di Maria       </td><td>4                    </td></tr>\n",
       "\t<tr><td> 96643               </td><td>Bojan Krkic          </td><td>4                    </td></tr>\n",
       "\t<tr><td> 38229               </td><td>Bryan Ruiz           </td><td>4                    </td></tr>\n",
       "</tbody>\n",
       "</table>\n"
      ],
      "text/latex": [
       "\\begin{tabular}{r|lll}\n",
       " player\\_api\\_id & player\\_name & LeagueNum\\\\\n",
       "\\hline\n",
       "\t  42119                & Gelson Fernandes      & 6                    \\\\\n",
       "\t 178538                & Filip Djuricic        & 5                    \\\\\n",
       "\t 116750                & Ricky van Wolfswinkel & 5                    \\\\\n",
       "\t 156534                & Aleksandar Tonev      & 4                    \\\\\n",
       "\t 129918                & Alfred Finnbogason    & 4                    \\\\\n",
       "\t  25816                & Almen Abdi            & 4                    \\\\\n",
       "\t  93484                & Aly Cissokho          & 4                    \\\\\n",
       "\t  46509                & Angel Di Maria        & 4                    \\\\\n",
       "\t  96643                & Bojan Krkic           & 4                    \\\\\n",
       "\t  38229                & Bryan Ruiz            & 4                    \\\\\n",
       "\\end{tabular}\n"
      ],
      "text/markdown": [
       "\n",
       "player_api_id | player_name | LeagueNum | \n",
       "|---|---|---|---|---|---|---|---|---|---|\n",
       "|  42119                | Gelson Fernandes      | 6                     | \n",
       "| 178538                | Filip Djuricic        | 5                     | \n",
       "| 116750                | Ricky van Wolfswinkel | 5                     | \n",
       "| 156534                | Aleksandar Tonev      | 4                     | \n",
       "| 129918                | Alfred Finnbogason    | 4                     | \n",
       "|  25816                | Almen Abdi            | 4                     | \n",
       "|  93484                | Aly Cissokho          | 4                     | \n",
       "|  46509                | Angel Di Maria        | 4                     | \n",
       "|  96643                | Bojan Krkic           | 4                     | \n",
       "|  38229                | Bryan Ruiz            | 4                     | \n",
       "\n",
       "\n"
      ],
      "text/plain": [
       "   player_api_id player_name           LeagueNum\n",
       "1   42119        Gelson Fernandes      6        \n",
       "2  178538        Filip Djuricic        5        \n",
       "3  116750        Ricky van Wolfswinkel 5        \n",
       "4  156534        Aleksandar Tonev      4        \n",
       "5  129918        Alfred Finnbogason    4        \n",
       "6   25816        Almen Abdi            4        \n",
       "7   93484        Aly Cissokho          4        \n",
       "8   46509        Angel Di Maria        4        \n",
       "9   96643        Bojan Krkic           4        \n",
       "10  38229        Bryan Ruiz            4        "
      ]
     },
     "metadata": {},
     "output_type": "display_data"
    }
   ],
   "source": [
    "player_l <-final_player\n",
    "player_l <-aggregate(LeagueNum~ player_api_id + player_name, player_l, max)\n",
    "head(arrange(player_l, desc(LeagueNum)),10)"
   ]
  },
  {
   "cell_type": "markdown",
   "metadata": {},
   "source": [
    "# Which are the top 10 teams by sum of build up play attributes?"
   ]
  },
  {
   "cell_type": "code",
   "execution_count": 22,
   "metadata": {
    "collapsed": false
   },
   "outputs": [
    {
     "data": {
      "text/html": [
       "<table>\n",
       "<thead><tr><th scope=col>team_api_id</th><th scope=col>team_long_name</th><th scope=col>Play</th></tr></thead>\n",
       "<tbody>\n",
       "\t<tr><td>  9804                    </td><td>Torino                    </td><td>209                       </td></tr>\n",
       "\t<tr><td>  8600                    </td><td>Udinese                   </td><td>205                       </td></tr>\n",
       "\t<tr><td>  8194                    </td><td>Fortuna Düsseldorf        </td><td>198                       </td></tr>\n",
       "\t<tr><td>  8033                    </td><td>Podbeskidzie Bielsko-Biała</td><td>193                       </td></tr>\n",
       "\t<tr><td>  8245                    </td><td>Korona Kielce             </td><td>192                       </td></tr>\n",
       "\t<tr><td>208931                    </td><td>Carpi                     </td><td>190                       </td></tr>\n",
       "\t<tr><td>  8024                    </td><td>Widzew Łódź               </td><td>190                       </td></tr>\n",
       "\t<tr><td>  8244                    </td><td>Widzew Łódź               </td><td>190                       </td></tr>\n",
       "\t<tr><td>  9830                    </td><td>FC Nantes                 </td><td>189                       </td></tr>\n",
       "\t<tr><td>  8543                    </td><td>Lazio                     </td><td>188                       </td></tr>\n",
       "</tbody>\n",
       "</table>\n"
      ],
      "text/latex": [
       "\\begin{tabular}{r|lll}\n",
       " team\\_api\\_id & team\\_long\\_name & Play\\\\\n",
       "\\hline\n",
       "\t   9804                     & Torino                     & 209                       \\\\\n",
       "\t   8600                     & Udinese                    & 205                       \\\\\n",
       "\t   8194                     & Fortuna Düsseldorf         & 198                       \\\\\n",
       "\t   8033                     & Podbeskidzie Bielsko-Biała & 193                       \\\\\n",
       "\t   8245                     & Korona Kielce              & 192                       \\\\\n",
       "\t 208931                     & Carpi                      & 190                       \\\\\n",
       "\t   8024                     & Widzew Łódź                & 190                       \\\\\n",
       "\t   8244                     & Widzew Łódź                & 190                       \\\\\n",
       "\t   9830                     & FC Nantes                  & 189                       \\\\\n",
       "\t   8543                     & Lazio                      & 188                       \\\\\n",
       "\\end{tabular}\n"
      ],
      "text/markdown": [
       "\n",
       "team_api_id | team_long_name | Play | \n",
       "|---|---|---|---|---|---|---|---|---|---|\n",
       "|   9804                     | Torino                     | 209                        | \n",
       "|   8600                     | Udinese                    | 205                        | \n",
       "|   8194                     | Fortuna Düsseldorf         | 198                        | \n",
       "|   8033                     | Podbeskidzie Bielsko-Biała | 193                        | \n",
       "|   8245                     | Korona Kielce              | 192                        | \n",
       "| 208931                     | Carpi                      | 190                        | \n",
       "|   8024                     | Widzew Łódź                | 190                        | \n",
       "|   8244                     | Widzew Łódź                | 190                        | \n",
       "|   9830                     | FC Nantes                  | 189                        | \n",
       "|   8543                     | Lazio                      | 188                        | \n",
       "\n",
       "\n"
      ],
      "text/plain": [
       "   team_api_id team_long_name             Play\n",
       "1    9804      Torino                     209 \n",
       "2    8600      Udinese                    205 \n",
       "3    8194      Fortuna Düsseldorf         198 \n",
       "4    8033      Podbeskidzie Bielsko-Biała 193 \n",
       "5    8245      Korona Kielce              192 \n",
       "6  208931      Carpi                      190 \n",
       "7    8024      Widzew Łódź                190 \n",
       "8    8244      Widzew Łódź                190 \n",
       "9    9830      FC Nantes                  189 \n",
       "10   8543      Lazio                      188 "
      ]
     },
     "metadata": {},
     "output_type": "display_data"
    }
   ],
   "source": [
    "team_play <-final_team\n",
    "team_play <-aggregate(Play ~ team_api_id + team_long_name, team_play, max)\n",
    "head(arrange(team_play, desc(Play)),10)"
   ]
  },
  {
   "cell_type": "markdown",
   "metadata": {},
   "source": [
    "# Which are the top 10 teams by sum of chance creation attributes? "
   ]
  },
  {
   "cell_type": "code",
   "execution_count": 26,
   "metadata": {
    "collapsed": false
   },
   "outputs": [
    {
     "data": {
      "text/html": [
       "<table>\n",
       "<thead><tr><th scope=col>team_api_id</th><th scope=col>team_long_name</th><th scope=col>Creation</th></tr></thead>\n",
       "<tbody>\n",
       "\t<tr><td>8543               </td><td>Lazio              </td><td>220                </td></tr>\n",
       "\t<tr><td>8697               </td><td>SV Werder Bremen   </td><td>216                </td></tr>\n",
       "\t<tr><td>9875               </td><td>Napoli             </td><td>215                </td></tr>\n",
       "\t<tr><td>8485               </td><td>Aberdeen           </td><td>210                </td></tr>\n",
       "\t<tr><td>8178               </td><td>Bayer 04 Leverkusen</td><td>210                </td></tr>\n",
       "\t<tr><td>8658               </td><td>Birmingham City    </td><td>210                </td></tr>\n",
       "\t<tr><td>8191               </td><td>Burnley            </td><td>210                </td></tr>\n",
       "\t<tr><td>8344               </td><td>Cardiff City       </td><td>210                </td></tr>\n",
       "\t<tr><td>9860               </td><td>Heart of Midlothian</td><td>210                </td></tr>\n",
       "\t<tr><td>8456               </td><td>Manchester City    </td><td>210                </td></tr>\n",
       "</tbody>\n",
       "</table>\n"
      ],
      "text/latex": [
       "\\begin{tabular}{r|lll}\n",
       " team\\_api\\_id & team\\_long\\_name & Creation\\\\\n",
       "\\hline\n",
       "\t 8543                & Lazio               & 220                \\\\\n",
       "\t 8697                & SV Werder Bremen    & 216                \\\\\n",
       "\t 9875                & Napoli              & 215                \\\\\n",
       "\t 8485                & Aberdeen            & 210                \\\\\n",
       "\t 8178                & Bayer 04 Leverkusen & 210                \\\\\n",
       "\t 8658                & Birmingham City     & 210                \\\\\n",
       "\t 8191                & Burnley             & 210                \\\\\n",
       "\t 8344                & Cardiff City        & 210                \\\\\n",
       "\t 9860                & Heart of Midlothian & 210                \\\\\n",
       "\t 8456                & Manchester City     & 210                \\\\\n",
       "\\end{tabular}\n"
      ],
      "text/markdown": [
       "\n",
       "team_api_id | team_long_name | Creation | \n",
       "|---|---|---|---|---|---|---|---|---|---|\n",
       "| 8543                | Lazio               | 220                 | \n",
       "| 8697                | SV Werder Bremen    | 216                 | \n",
       "| 9875                | Napoli              | 215                 | \n",
       "| 8485                | Aberdeen            | 210                 | \n",
       "| 8178                | Bayer 04 Leverkusen | 210                 | \n",
       "| 8658                | Birmingham City     | 210                 | \n",
       "| 8191                | Burnley             | 210                 | \n",
       "| 8344                | Cardiff City        | 210                 | \n",
       "| 9860                | Heart of Midlothian | 210                 | \n",
       "| 8456                | Manchester City     | 210                 | \n",
       "\n",
       "\n"
      ],
      "text/plain": [
       "   team_api_id team_long_name      Creation\n",
       "1  8543        Lazio               220     \n",
       "2  8697        SV Werder Bremen    216     \n",
       "3  9875        Napoli              215     \n",
       "4  8485        Aberdeen            210     \n",
       "5  8178        Bayer 04 Leverkusen 210     \n",
       "6  8658        Birmingham City     210     \n",
       "7  8191        Burnley             210     \n",
       "8  8344        Cardiff City        210     \n",
       "9  9860        Heart of Midlothian 210     \n",
       "10 8456        Manchester City     210     "
      ]
     },
     "metadata": {},
     "output_type": "display_data"
    }
   ],
   "source": [
    "team_creation <-final_team\n",
    "team_creation <-aggregate(Creation ~ team_api_id + team_long_name, team_creation, max)\n",
    "head(arrange(team_creation, desc(Creation)),10)"
   ]
  },
  {
   "cell_type": "markdown",
   "metadata": {},
   "source": [
    "# Which are the top 10 teams by sum of defense attributes?"
   ]
  },
  {
   "cell_type": "code",
   "execution_count": 30,
   "metadata": {
    "collapsed": false
   },
   "outputs": [
    {
     "data": {
      "text/html": [
       "<table>\n",
       "<thead><tr><th scope=col>team_api_id</th><th scope=col>team_long_name</th><th scope=col>Defense</th></tr></thead>\n",
       "<tbody>\n",
       "\t<tr><td>8350                 </td><td>1. FC Kaiserslautern </td><td>210                  </td></tr>\n",
       "\t<tr><td>8481                 </td><td>AS Nancy-Lorraine    </td><td>210                  </td></tr>\n",
       "\t<tr><td>9993                 </td><td>Beerschot AC         </td><td>210                  </td></tr>\n",
       "\t<tr><td>8658                 </td><td>Birmingham City      </td><td>210                  </td></tr>\n",
       "\t<tr><td>8483                 </td><td>Blackpool            </td><td>210                  </td></tr>\n",
       "\t<tr><td>8678                 </td><td>Bournemouth          </td><td>210                  </td></tr>\n",
       "\t<tr><td>8344                 </td><td>Cardiff City         </td><td>210                  </td></tr>\n",
       "\t<tr><td>9904                 </td><td>Hannover 96          </td><td>210                  </td></tr>\n",
       "\t<tr><td>8667                 </td><td>Hull City            </td><td>210                  </td></tr>\n",
       "\t<tr><td>1957                 </td><td>Jagiellonia Białystok</td><td>210                  </td></tr>\n",
       "</tbody>\n",
       "</table>\n"
      ],
      "text/latex": [
       "\\begin{tabular}{r|lll}\n",
       " team\\_api\\_id & team\\_long\\_name & Defense\\\\\n",
       "\\hline\n",
       "\t 8350                  & 1. FC Kaiserslautern  & 210                  \\\\\n",
       "\t 8481                  & AS Nancy-Lorraine     & 210                  \\\\\n",
       "\t 9993                  & Beerschot AC          & 210                  \\\\\n",
       "\t 8658                  & Birmingham City       & 210                  \\\\\n",
       "\t 8483                  & Blackpool             & 210                  \\\\\n",
       "\t 8678                  & Bournemouth           & 210                  \\\\\n",
       "\t 8344                  & Cardiff City          & 210                  \\\\\n",
       "\t 9904                  & Hannover 96           & 210                  \\\\\n",
       "\t 8667                  & Hull City             & 210                  \\\\\n",
       "\t 1957                  & Jagiellonia Białystok & 210                  \\\\\n",
       "\\end{tabular}\n"
      ],
      "text/markdown": [
       "\n",
       "team_api_id | team_long_name | Defense | \n",
       "|---|---|---|---|---|---|---|---|---|---|\n",
       "| 8350                  | 1. FC Kaiserslautern  | 210                   | \n",
       "| 8481                  | AS Nancy-Lorraine     | 210                   | \n",
       "| 9993                  | Beerschot AC          | 210                   | \n",
       "| 8658                  | Birmingham City       | 210                   | \n",
       "| 8483                  | Blackpool             | 210                   | \n",
       "| 8678                  | Bournemouth           | 210                   | \n",
       "| 8344                  | Cardiff City          | 210                   | \n",
       "| 9904                  | Hannover 96           | 210                   | \n",
       "| 8667                  | Hull City             | 210                   | \n",
       "| 1957                  | Jagiellonia Białystok | 210                   | \n",
       "\n",
       "\n"
      ],
      "text/plain": [
       "   team_api_id team_long_name        Defense\n",
       "1  8350        1. FC Kaiserslautern  210    \n",
       "2  8481        AS Nancy-Lorraine     210    \n",
       "3  9993        Beerschot AC          210    \n",
       "4  8658        Birmingham City       210    \n",
       "5  8483        Blackpool             210    \n",
       "6  8678        Bournemouth           210    \n",
       "7  8344        Cardiff City          210    \n",
       "8  9904        Hannover 96           210    \n",
       "9  8667        Hull City             210    \n",
       "10 1957        Jagiellonia Białystok 210    "
      ]
     },
     "metadata": {},
     "output_type": "display_data"
    }
   ],
   "source": [
    "team_defense <-final_team\n",
    "team_defense <-aggregate(Defense ~ team_api_id + team_long_name, team_defense, max)\n",
    "head(arrange(team_defense, desc(Defense)),10)"
   ]
  },
  {
   "cell_type": "markdown",
   "metadata": {},
   "source": [
    "# Which are the top 10 teams by number of scored goals?"
   ]
  },
  {
   "cell_type": "code",
   "execution_count": 31,
   "metadata": {
    "collapsed": false
   },
   "outputs": [
    {
     "data": {
      "text/html": [
       "<table>\n",
       "<thead><tr><th scope=col>team_api_id</th><th scope=col>team_long_name</th><th scope=col>goals</th></tr></thead>\n",
       "<tbody>\n",
       "\t<tr><td> 8634            </td><td>FC Barcelona     </td><td>849              </td></tr>\n",
       "\t<tr><td> 8633            </td><td>Real Madrid CF   </td><td>843              </td></tr>\n",
       "\t<tr><td> 9925            </td><td>Celtic           </td><td>695              </td></tr>\n",
       "\t<tr><td> 9823            </td><td>FC Bayern Munich </td><td>653              </td></tr>\n",
       "\t<tr><td> 8640            </td><td>PSV              </td><td>652              </td></tr>\n",
       "\t<tr><td> 8593            </td><td>Ajax             </td><td>647              </td></tr>\n",
       "\t<tr><td> 9931            </td><td>FC Basel         </td><td>619              </td></tr>\n",
       "\t<tr><td> 8456            </td><td>Manchester City  </td><td>606              </td></tr>\n",
       "\t<tr><td> 8455            </td><td>Chelsea          </td><td>583              </td></tr>\n",
       "\t<tr><td>10260            </td><td>Manchester United</td><td>582              </td></tr>\n",
       "</tbody>\n",
       "</table>\n"
      ],
      "text/latex": [
       "\\begin{tabular}{r|lll}\n",
       " team\\_api\\_id & team\\_long\\_name & goals\\\\\n",
       "\\hline\n",
       "\t  8634             & FC Barcelona      & 849              \\\\\n",
       "\t  8633             & Real Madrid CF    & 843              \\\\\n",
       "\t  9925             & Celtic            & 695              \\\\\n",
       "\t  9823             & FC Bayern Munich  & 653              \\\\\n",
       "\t  8640             & PSV               & 652              \\\\\n",
       "\t  8593             & Ajax              & 647              \\\\\n",
       "\t  9931             & FC Basel          & 619              \\\\\n",
       "\t  8456             & Manchester City   & 606              \\\\\n",
       "\t  8455             & Chelsea           & 583              \\\\\n",
       "\t 10260             & Manchester United & 582              \\\\\n",
       "\\end{tabular}\n"
      ],
      "text/markdown": [
       "\n",
       "team_api_id | team_long_name | goals | \n",
       "|---|---|---|---|---|---|---|---|---|---|\n",
       "|  8634             | FC Barcelona      | 849               | \n",
       "|  8633             | Real Madrid CF    | 843               | \n",
       "|  9925             | Celtic            | 695               | \n",
       "|  9823             | FC Bayern Munich  | 653               | \n",
       "|  8640             | PSV               | 652               | \n",
       "|  8593             | Ajax              | 647               | \n",
       "|  9931             | FC Basel          | 619               | \n",
       "|  8456             | Manchester City   | 606               | \n",
       "|  8455             | Chelsea           | 583               | \n",
       "| 10260             | Manchester United | 582               | \n",
       "\n",
       "\n"
      ],
      "text/plain": [
       "   team_api_id team_long_name    goals\n",
       "1   8634       FC Barcelona      849  \n",
       "2   8633       Real Madrid CF    843  \n",
       "3   9925       Celtic            695  \n",
       "4   9823       FC Bayern Munich  653  \n",
       "5   8640       PSV               652  \n",
       "6   8593       Ajax              647  \n",
       "7   9931       FC Basel          619  \n",
       "8   8456       Manchester City   606  \n",
       "9   8455       Chelsea           583  \n",
       "10 10260       Manchester United 582  "
      ]
     },
     "metadata": {},
     "output_type": "display_data"
    }
   ],
   "source": [
    "team_goal <-final_team\n",
    "team_goal <-aggregate(goals ~ team_api_id + team_long_name, team_goal, max)\n",
    "head(arrange(team_goal, desc(goals)),10)"
   ]
  }
 ],
 "metadata": {
  "kernelspec": {
   "display_name": "R",
   "language": "R",
   "name": "ir"
  },
  "language_info": {
   "codemirror_mode": "r",
   "file_extension": ".r",
   "mimetype": "text/x-r-source",
   "name": "R",
   "pygments_lexer": "r",
   "version": "3.3.2"
  }
 },
 "nbformat": 4,
 "nbformat_minor": 2
}
